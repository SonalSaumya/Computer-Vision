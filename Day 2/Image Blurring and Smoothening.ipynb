{
 "cells": [
  {
   "cell_type": "code",
   "execution_count": 1,
   "id": "a868904b-3804-426b-8a1d-38794b516dd4",
   "metadata": {},
   "outputs": [],
   "source": [
    "import cv2\n",
    "import numpy as np\n",
    "import matplotlib.pyplot as plt"
   ]
  },
  {
   "cell_type": "code",
   "execution_count": 2,
   "id": "34e6f269-51ee-4b63-bbc1-35d8592aa5fc",
   "metadata": {},
   "outputs": [],
   "source": [
    "img = cv2.imread('sachin.jpg')"
   ]
  },
  {
   "cell_type": "code",
   "execution_count": 18,
   "id": "d15dfe98-004e-4a78-ac3a-45da1b52cfea",
   "metadata": {},
   "outputs": [
    {
     "data": {
      "text/plain": [
       "array([[0.04, 0.04, 0.04, 0.04, 0.04],\n",
       "       [0.04, 0.04, 0.04, 0.04, 0.04],\n",
       "       [0.04, 0.04, 0.04, 0.04, 0.04],\n",
       "       [0.04, 0.04, 0.04, 0.04, 0.04],\n",
       "       [0.04, 0.04, 0.04, 0.04, 0.04]])"
      ]
     },
     "execution_count": 18,
     "metadata": {},
     "output_type": "execute_result"
    }
   ],
   "source": [
    "# define the averaging kernal\n",
    "import numpy as np\n",
    "\n",
    "kernal = np.ones((5, 5)) * 1/25\n",
    "kernal"
   ]
  },
  {
   "cell_type": "code",
   "execution_count": 19,
   "id": "914b14a8-2608-4c1b-8844-dd9261d345e5",
   "metadata": {},
   "outputs": [],
   "source": [
    "#Other Methods\n",
    "\n",
    "# kernal = np.ones((5, 5)) * 0.11\n",
    "# print(kernal)\n",
    "\n",
    "#OR\n",
    "\n",
    "# matrix = np.zeros((5,5)) + 0.11\n",
    "# print(matrix)"
   ]
  },
  {
   "cell_type": "code",
   "execution_count": 6,
   "id": "1e6a6017-283c-46d7-b954-143e79dc3a8d",
   "metadata": {},
   "outputs": [
    {
     "name": "stdout",
     "output_type": "stream",
     "text": [
      "Help on built-in function filter2D:\n",
      "\n",
      "filter2D(...)\n",
      "    filter2D(src, ddepth, kernel[, dst[, anchor[, delta[, borderType]]]]) -> dst\n",
      "    .   @brief Convolves an image with the kernel.\n",
      "    .\n",
      "    .   The function applies an arbitrary linear filter to an image. In-place operation is supported. When\n",
      "    .   the aperture is partially outside the image, the function interpolates outlier pixel values\n",
      "    .   according to the specified border mode.\n",
      "    .\n",
      "    .   The function does actually compute correlation, not the convolution:\n",
      "    .\n",
      "    .   \\f[\\texttt{dst} (x,y) =  \\sum _{ \\substack{0\\leq x' < \\texttt{kernel.cols}\\\\{0\\leq y' < \\texttt{kernel.rows}}}}  \\texttt{kernel} (x',y')* \\texttt{src} (x+x'- \\texttt{anchor.x} ,y+y'- \\texttt{anchor.y} )\\f]\n",
      "    .\n",
      "    .   That is, the kernel is not mirrored around the anchor point. If you need a real convolution, flip\n",
      "    .   the kernel using #flip and set the new anchor to `(kernel.cols - anchor.x - 1, kernel.rows -\n",
      "    .   anchor.y - 1)`.\n",
      "    .\n",
      "    .   The function uses the DFT-based algorithm in case of sufficiently large kernels (~`11 x 11` or\n",
      "    .   larger) and the direct algorithm for small kernels.\n",
      "    .\n",
      "    .   @param src input image.\n",
      "    .   @param dst output image of the same size and the same number of channels as src.\n",
      "    .   @param ddepth desired depth of the destination image, see @ref filter_depths \"combinations\"\n",
      "    .   @param kernel convolution kernel (or rather a correlation kernel), a single-channel floating point\n",
      "    .   matrix; if you want to apply different kernels to different channels, split the image into\n",
      "    .   separate color planes using split and process them individually.\n",
      "    .   @param anchor anchor of the kernel that indicates the relative position of a filtered point within\n",
      "    .   the kernel; the anchor should lie within the kernel; default value (-1,-1) means that the anchor\n",
      "    .   is at the kernel center.\n",
      "    .   @param delta optional value added to the filtered pixels before storing them in dst.\n",
      "    .   @param borderType pixel extrapolation method, see #BorderTypes. #BORDER_WRAP is not supported.\n",
      "    .   @sa  sepFilter2D, dft, matchTemplate\n",
      "\n"
     ]
    }
   ],
   "source": [
    "help(cv2.filter2D)"
   ]
  },
  {
   "cell_type": "code",
   "execution_count": 20,
   "id": "f5718727-48d1-4ae7-949b-3929ca5abdda",
   "metadata": {},
   "outputs": [],
   "source": [
    "smoothened_image = cv2.filter2D(img, -1, kernal)"
   ]
  },
  {
   "cell_type": "code",
   "execution_count": 21,
   "id": "cee6a232-db76-457e-a0b0-9583241b0f48",
   "metadata": {},
   "outputs": [
    {
     "data": {
      "text/plain": [
       "<function destroyAllWindows>"
      ]
     },
     "execution_count": 21,
     "metadata": {},
     "output_type": "execute_result"
    }
   ],
   "source": [
    "cv2.imshow('Blurred Image', smoothened_image)\n",
    "cv2.waitKey(0)\n",
    "cv2.destroyAllWindows"
   ]
  },
  {
   "cell_type": "code",
   "execution_count": null,
   "id": "c2dcbb5a-2ff9-4cda-8780-4aae32bea23d",
   "metadata": {},
   "outputs": [],
   "source": []
  }
 ],
 "metadata": {
  "kernelspec": {
   "display_name": "Python 3 (ipykernel)",
   "language": "python",
   "name": "python3"
  },
  "language_info": {
   "codemirror_mode": {
    "name": "ipython",
    "version": 3
   },
   "file_extension": ".py",
   "mimetype": "text/x-python",
   "name": "python",
   "nbconvert_exporter": "python",
   "pygments_lexer": "ipython3",
   "version": "3.12.4"
  }
 },
 "nbformat": 4,
 "nbformat_minor": 5
}
